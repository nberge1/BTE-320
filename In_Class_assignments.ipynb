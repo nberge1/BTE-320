{
  "nbformat": 4,
  "nbformat_minor": 0,
  "metadata": {
    "colab": {
      "provenance": [],
      "authorship_tag": "ABX9TyOxIBGrzy0y7OKZF1jzD6ry",
      "include_colab_link": true
    },
    "kernelspec": {
      "name": "python3",
      "display_name": "Python 3"
    },
    "language_info": {
      "name": "python"
    }
  },
  "cells": [
    {
      "cell_type": "markdown",
      "metadata": {
        "id": "view-in-github",
        "colab_type": "text"
      },
      "source": [
        "<a href=\"https://colab.research.google.com/github/nberge1/BTE-320/blob/main/In_Class_assignments.ipynb\" target=\"_parent\"><img src=\"https://colab.research.google.com/assets/colab-badge.svg\" alt=\"Open In Colab\"/></a>"
      ]
    },
    {
      "cell_type": "code",
      "execution_count": null,
      "metadata": {
        "colab": {
          "base_uri": "https://localhost:8080/"
        },
        "id": "rMYWVVV93GZT",
        "outputId": "15de510d-b25d-492e-a1e4-0ef0edfe0d21"
      },
      "outputs": [
        {
          "output_type": "stream",
          "name": "stdout",
          "text": [
            "Enter the radius of the cylinder: 5\n",
            "Enter the height of the cylinder: 7\n",
            "area = 377.03999999999996 sq. ft\n"
          ]
        }
      ],
      "source": [
        "R = input(\"Enter the radius of the cylinder: \")\n",
        "R = float(R)\n",
        "h = input(\"Enter the height of the cylinder: \")\n",
        "h = float(h)\n",
        "pi = 3.142\n",
        "area = 2*pi*R**2 + 2*pi*R*h\n",
        "print(\"area =\", area, \"sq. ft\")\n",
        "\n",
        "\n"
      ]
    }
  ]
}