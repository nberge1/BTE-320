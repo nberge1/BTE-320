{
  "nbformat": 4,
  "nbformat_minor": 0,
  "metadata": {
    "colab": {
      "provenance": [],
      "authorship_tag": "ABX9TyOVr6+QOyGOBjYkhF6OK3Qm",
      "include_colab_link": true
    },
    "kernelspec": {
      "name": "python3",
      "display_name": "Python 3"
    },
    "language_info": {
      "name": "python"
    }
  },
  "cells": [
    {
      "cell_type": "markdown",
      "metadata": {
        "id": "view-in-github",
        "colab_type": "text"
      },
      "source": [
        "<a href=\"https://colab.research.google.com/github/nberge1/BTE-320/blob/main/In_Class_assignments.ipynb\" target=\"_parent\"><img src=\"https://colab.research.google.com/assets/colab-badge.svg\" alt=\"Open In Colab\"/></a>"
      ]
    },
    {
      "cell_type": "code",
      "execution_count": null,
      "metadata": {
        "colab": {
          "base_uri": "https://localhost:8080/"
        },
        "id": "rMYWVVV93GZT",
        "outputId": "15de510d-b25d-492e-a1e4-0ef0edfe0d21",
        "collapsed": true
      },
      "outputs": [
        {
          "output_type": "stream",
          "name": "stdout",
          "text": [
            "Enter the radius of the cylinder: 5\n",
            "Enter the height of the cylinder: 7\n",
            "area = 377.03999999999996 sq. ft\n"
          ]
        }
      ],
      "source": [
        "R = input(\"Enter the radius of the cylinder: \")\n",
        "R = float(R)\n",
        "h = input(\"Enter the height of the cylinder: \")\n",
        "h = float(h)\n",
        "pi = 3.142\n",
        "area = 2*pi*R**2 + 2*pi*R*h\n",
        "print(\"area =\", area, \"sq. ft\")\n",
        "\n",
        "\n"
      ]
    },
    {
      "cell_type": "code",
      "source": [
        "n1 = float(input(\"Enter the first number: \"))\n",
        "n2 = float(input(\"Enter the second number: \"))\n",
        "op = input(\"Enter the operator: \")\n",
        "\n",
        "if op == \"+\":\n",
        "  print(n1 + n2)\n",
        "elif op == \"-\":\n",
        "  print(n1 - n2)\n",
        "elif op == \"*\":\n",
        "  print(n1 * n2)\n",
        "elif op == \"**\":\n",
        "  print(n1 ** n2)\n",
        "elif op == \"/\":\n",
        "  print(n1 / n2)\n",
        "elif op == \"//\":\n",
        "  print(n1 // n2)\n",
        "elif op == \"%\":\n",
        "  print(n1 % n2)\n",
        "else:\n",
        "  print(\"Invalid Operation\")\n",
        "\n",
        "\n"
      ],
      "metadata": {
        "id": "aggblMUPSHiO",
        "collapsed": true,
        "outputId": "0c3cac62-1627-425d-f41e-dcc869546d24",
        "colab": {
          "base_uri": "https://localhost:8080/"
        }
      },
      "execution_count": null,
      "outputs": [
        {
          "output_type": "stream",
          "name": "stdout",
          "text": [
            "Enter the first number: 5\n",
            "Enter the second number: 5\n",
            "Enter the operator: 5\n",
            "Invalid Operation\n"
          ]
        }
      ]
    },
    {
      "cell_type": "code",
      "source": [
        "for number in range(1, 9, 1):\n",
        "    fee = 5 + 2.5 * number\n",
        "    if fee < 10:\n",
        "      fee = 10.0\n",
        "    elif fee > 20:\n",
        "      fee = 20.0\n",
        "    print(number, fee)\n"
      ],
      "metadata": {
        "colab": {
          "base_uri": "https://localhost:8080/"
        },
        "id": "ckbLjdPWnRjk",
        "outputId": "cd02f10b-82cb-4fd0-878e-d3f7388fcbf3",
        "collapsed": true
      },
      "execution_count": null,
      "outputs": [
        {
          "output_type": "stream",
          "name": "stdout",
          "text": [
            "1 10.0\n",
            "2 10.0\n",
            "3 12.5\n",
            "4 15.0\n",
            "5 17.5\n",
            "6 20.0\n",
            "7 20.0\n",
            "8 20.0\n"
          ]
        }
      ]
    },
    {
      "cell_type": "code",
      "source": [
        "print('Ad$', 'Profit')\n",
        "for Advertisingdollars in range(0, 201, 25):\n",
        "  revenue = (20 + 2 * round(Advertisingdollars ** .5)) * 10\n",
        "  costs = 200 + Advertisingdollars\n",
        "  profit = revenue - costs\n",
        "  print(Advertisingdollars,'/t', profit)"
      ],
      "metadata": {
        "id": "Rb0UKzdvrPK9",
        "outputId": "137d2144-5314-4c80-82a7-401e60581579",
        "colab": {
          "base_uri": "https://localhost:8080/"
        },
        "collapsed": true
      },
      "execution_count": null,
      "outputs": [
        {
          "output_type": "stream",
          "name": "stdout",
          "text": [
            "Ad$ Profit\n",
            "0 /t 0\n",
            "25 /t 75\n",
            "50 /t 90\n",
            "75 /t 105\n",
            "100 /t 100\n",
            "125 /t 95\n",
            "150 /t 90\n",
            "175 /t 85\n",
            "200 /t 80\n"
          ]
        }
      ]
    },
    {
      "cell_type": "code",
      "source": [
        "import random\n",
        "play = input('Do you want to play a game (Yes/No):')\n",
        "while play == 'Yes':\n",
        "  p1 = input('Player - Choose rock, paper, or scissors:')\n",
        "  p2 = random.choice(['rock', 'paper', 'scissors'])\n",
        "  print('Computer chose:', p2)\n",
        "  if p1 == p2:\n",
        "    print('Tie')\n",
        "  elif ((p1 == 'Rock' and p2 == 'Scissors') or\n",
        "  (p1 == 'Scissors' and p2 == 'Paper') or\n",
        "  (p1 == 'Paper' and p2 == 'Rock')):\n",
        "    print('Player 1 wins:')\n",
        "  else:\n",
        "    print('Player 2 wins')\n",
        "  play = input('Do you want to play another game (Yes/No):')\n",
        "print('Good day...')"
      ],
      "metadata": {
        "id": "dce1-GRRW66G",
        "colab": {
          "base_uri": "https://localhost:8080/"
        },
        "collapsed": true,
        "outputId": "d03b45f6-9ef2-452f-fd4b-76efe8ad2a16"
      },
      "execution_count": null,
      "outputs": [
        {
          "output_type": "stream",
          "name": "stdout",
          "text": [
            "Do you want to play a game (Yes/No):Yes\n",
            "Player - Choose rock, paper, or scissors:scissors\n",
            "Computer chose: rock\n",
            "Player 2 wins\n",
            "Do you want to play another game (Yes/No):No\n",
            "Good day...\n"
          ]
        }
      ]
    },
    {
      "cell_type": "code",
      "source": [
        "First = []\n",
        "while True:\n",
        "  num = float(input('Give a number:'))\n",
        "  if num == 0.0:\n",
        "    break\n",
        "  First.append(num)\n",
        "First.sort(reverse=True)\n",
        "First\n",
        "\n"
      ],
      "metadata": {
        "colab": {
          "base_uri": "https://localhost:8080/"
        },
        "collapsed": true,
        "id": "fTwAQxObgsvV",
        "outputId": "9b4d2a64-81fb-4213-e7da-01e512ad4362"
      },
      "execution_count": null,
      "outputs": [
        {
          "name": "stdout",
          "output_type": "stream",
          "text": [
            "Give a number:7\n",
            "Give a number:8\n",
            "Give a number:0\n"
          ]
        },
        {
          "output_type": "execute_result",
          "data": {
            "text/plain": [
              "[8.0, 7.0]"
            ]
          },
          "metadata": {},
          "execution_count": 2
        }
      ]
    },
    {
      "cell_type": "code",
      "source": [
        "months = {}\n",
        "names = ['January', 'February', 'March', 'April', 'May', 'June', 'July', 'August', 'September', 'October', 'November', 'December']\n",
        "numbers = [1, 2, 3, 4, 5, 6, 7, 8, 9, 10, 11, 12]\n",
        "for idx in range(len(names)):\n",
        "  months[numbers[idx]] = names[idx]\n",
        "months"
      ],
      "metadata": {
        "id": "6j3L8bppdEVc",
        "colab": {
          "base_uri": "https://localhost:8080/"
        },
        "collapsed": true,
        "outputId": "358f18b4-9e45-4725-df41-20fbc2139018"
      },
      "execution_count": null,
      "outputs": [
        {
          "output_type": "execute_result",
          "data": {
            "text/plain": [
              "{1: 'January',\n",
              " 2: 'February',\n",
              " 3: 'March',\n",
              " 4: 'April',\n",
              " 5: 'May',\n",
              " 6: 'June',\n",
              " 7: 'July',\n",
              " 8: 'August',\n",
              " 9: 'September',\n",
              " 10: 'October',\n",
              " 11: 'November',\n",
              " 12: 'December'}"
            ]
          },
          "metadata": {},
          "execution_count": 1
        }
      ]
    },
    {
      "cell_type": "code",
      "source": [
        "counts = {}\n",
        "while len(counts) < 5:\n",
        "  key = input(\"Please enter value: \")\n",
        "  if key not in counts:\n",
        "    counts[key] = 1\n",
        "  else:\n",
        "    counts[key] += 1\n",
        "counts"
      ],
      "metadata": {
        "id": "UfRl4Yls1eGF",
        "colab": {
          "base_uri": "https://localhost:8080/"
        },
        "collapsed": true,
        "outputId": "91842e3d-d5c5-4b1c-9889-360e735b76b9"
      },
      "execution_count": null,
      "outputs": [
        {
          "name": "stdout",
          "output_type": "stream",
          "text": [
            "Please enter value: 5\n",
            "Please enter value: 7\n",
            "Please enter value: 1\n",
            "Please enter value: 0\n",
            "Please enter value: 8\n"
          ]
        },
        {
          "output_type": "execute_result",
          "data": {
            "text/plain": [
              "{'5': 1, '7': 1, '1': 1, '0': 1, '8': 1}"
            ]
          },
          "metadata": {},
          "execution_count": 2
        }
      ]
    },
    {
      "cell_type": "code",
      "source": [
        "def calcFee(hours):\n",
        "  fee = 5 + 2.5*hours\n",
        "  if fee < 10.0:\n",
        "    fee = 10.0\n",
        "  elif fee > 20.0:\n",
        "    fee = 20.0\n",
        "  print(f'Fee: {fee}$')\n",
        "print('Program starts...')\n",
        "numHours = int(input('Enter the number of hours: '))\n",
        "calcFee(numHours)"
      ],
      "metadata": {
        "colab": {
          "base_uri": "https://localhost:8080/"
        },
        "id": "K4Ccy26F1dTt",
        "outputId": "44ed59bc-b54b-42e3-c664-2921931ded5f"
      },
      "execution_count": null,
      "outputs": [
        {
          "output_type": "stream",
          "name": "stdout",
          "text": [
            "Program starts...\n",
            "Enter the number of hours: 8\n",
            "Fee: 20.0$\n"
          ]
        }
      ]
    },
    {
      "cell_type": "code",
      "source": [
        "ef calcFee(hours):\n",
        "  fee = 5 + 2.5*hours\n",
        "  if fee < 10.0:\n",
        "    fee = 10.0\n",
        "  elif fee > 20.0:\n",
        "    fee = 20.0\n",
        "  print(f'Fee: {fee}$')\n",
        "def main():\n",
        "  numHours = int(input('Enter the number of hours: '))\n",
        "  calcFee(numHours)\n",
        "if_name_ == '_main_':\n",
        "main()"
      ],
      "metadata": {
        "id": "5FwA8MciJBgf"
      },
      "execution_count": null,
      "outputs": []
    },
    {
      "cell_type": "code",
      "source": [
        "class Greeting:\n",
        "  def_init_(self, first, last):\n",
        "    self.first = first\n",
        "    self.last = last\n",
        "  def display(self)\n",
        "    print(f'Hi {self.first}')\n",
        "greeting = Greeting('Donald, Becket')\n",
        "greeting.dispay()"
      ],
      "metadata": {
        "colab": {
          "base_uri": "https://localhost:8080/",
          "height": 108
        },
        "id": "6PAIdLkVnknp",
        "outputId": "b4ceb0ce-dcd1-43c4-f38e-b0a5e7efa2d6"
      },
      "execution_count": 1,
      "outputs": [
        {
          "output_type": "error",
          "ename": "SyntaxError",
          "evalue": "invalid syntax (<ipython-input-1-e6ad647b0b80>, line 2)",
          "traceback": [
            "\u001b[0;36m  File \u001b[0;32m\"<ipython-input-1-e6ad647b0b80>\"\u001b[0;36m, line \u001b[0;32m2\u001b[0m\n\u001b[0;31m    def_init_(self, first, last):\u001b[0m\n\u001b[0m                                ^\u001b[0m\n\u001b[0;31mSyntaxError\u001b[0m\u001b[0;31m:\u001b[0m invalid syntax\n"
          ]
        }
      ]
    }
  ]
}