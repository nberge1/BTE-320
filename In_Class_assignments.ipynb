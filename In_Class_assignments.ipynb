{
  "nbformat": 4,
  "nbformat_minor": 0,
  "metadata": {
    "colab": {
      "provenance": [],
      "authorship_tag": "ABX9TyP2s94hZD6Kqfm6tT1JWdLm",
      "include_colab_link": true
    },
    "kernelspec": {
      "name": "python3",
      "display_name": "Python 3"
    },
    "language_info": {
      "name": "python"
    }
  },
  "cells": [
    {
      "cell_type": "markdown",
      "metadata": {
        "id": "view-in-github",
        "colab_type": "text"
      },
      "source": [
        "<a href=\"https://colab.research.google.com/github/nberge1/BTE-320/blob/main/In_Class_assignments.ipynb\" target=\"_parent\"><img src=\"https://colab.research.google.com/assets/colab-badge.svg\" alt=\"Open In Colab\"/></a>"
      ]
    },
    {
      "cell_type": "code",
      "execution_count": null,
      "metadata": {
        "colab": {
          "base_uri": "https://localhost:8080/"
        },
        "id": "rMYWVVV93GZT",
        "outputId": "15de510d-b25d-492e-a1e4-0ef0edfe0d21"
      },
      "outputs": [
        {
          "output_type": "stream",
          "name": "stdout",
          "text": [
            "Enter the radius of the cylinder: 5\n",
            "Enter the height of the cylinder: 7\n",
            "area = 377.03999999999996 sq. ft\n"
          ]
        }
      ],
      "source": [
        "R = input(\"Enter the radius of the cylinder: \")\n",
        "R = float(R)\n",
        "h = input(\"Enter the height of the cylinder: \")\n",
        "h = float(h)\n",
        "pi = 3.142\n",
        "area = 2*pi*R**2 + 2*pi*R*h\n",
        "print(\"area =\", area, \"sq. ft\")\n",
        "\n",
        "\n"
      ]
    },
    {
      "cell_type": "code",
      "source": [
        "n1 = float(input(\"Enter the first number: \"))\n",
        "n2 = float(input(\"Enter the second number: \"))\n",
        "op = input(\"Enter the operator: \")\n",
        "\n",
        "if op == \"+\":\n",
        "  print(n1 + n2)\n",
        "elif op == \"-\":\n",
        "  print(n1 - n2)\n",
        "elif op == \"*\":\n",
        "  print(n1 * n2)\n",
        "elif op == \"**\":\n",
        "  print(n1 ** n2)\n",
        "elif op == \"/\":\n",
        "  print(n1 / n2)\n",
        "elif op == \"//\":\n",
        "  print(n1 // n2)\n",
        "elif op == \"%\":\n",
        "  print(n1 % n2)\n",
        "else:\n",
        "  print(\"Invalid Operation\")\n",
        "\n",
        "\n"
      ],
      "metadata": {
        "id": "aggblMUPSHiO",
        "outputId": "0c3cac62-1627-425d-f41e-dcc869546d24",
        "colab": {
          "base_uri": "https://localhost:8080/"
        }
      },
      "execution_count": null,
      "outputs": [
        {
          "output_type": "stream",
          "name": "stdout",
          "text": [
            "Enter the first number: 5\n",
            "Enter the second number: 5\n",
            "Enter the operator: 5\n",
            "Invalid Operation\n"
          ]
        }
      ]
    },
    {
      "cell_type": "code",
      "source": [
        "for number in range(1, 9, 1):\n",
        "    fee = 5 + 2.5 * number\n",
        "    if fee < 10:\n",
        "      fee = 10.0\n",
        "    elif fee > 20:\n",
        "      fee = 20.0\n",
        "    print(number, fee)\n"
      ],
      "metadata": {
        "colab": {
          "base_uri": "https://localhost:8080/"
        },
        "id": "ckbLjdPWnRjk",
        "outputId": "cd02f10b-82cb-4fd0-878e-d3f7388fcbf3"
      },
      "execution_count": null,
      "outputs": [
        {
          "output_type": "stream",
          "name": "stdout",
          "text": [
            "1 10.0\n",
            "2 10.0\n",
            "3 12.5\n",
            "4 15.0\n",
            "5 17.5\n",
            "6 20.0\n",
            "7 20.0\n",
            "8 20.0\n"
          ]
        }
      ]
    },
    {
      "cell_type": "code",
      "source": [
        "print('Ad$', 'Profit')\n",
        "for Advertisingdollars in range(0, 201, 25):\n",
        "  revenue = (20 + 2 * round(Advertisingdollars ** .5)) * 10\n",
        "  costs = 200 + Advertisingdollars\n",
        "  profit = revenue - costs\n",
        "  print(Advertisingdollars,'/t', profit)"
      ],
      "metadata": {
        "id": "Rb0UKzdvrPK9",
        "outputId": "137d2144-5314-4c80-82a7-401e60581579",
        "colab": {
          "base_uri": "https://localhost:8080/"
        }
      },
      "execution_count": null,
      "outputs": [
        {
          "output_type": "stream",
          "name": "stdout",
          "text": [
            "Ad$ Profit\n",
            "0 /t 0\n",
            "25 /t 75\n",
            "50 /t 90\n",
            "75 /t 105\n",
            "100 /t 100\n",
            "125 /t 95\n",
            "150 /t 90\n",
            "175 /t 85\n",
            "200 /t 80\n"
          ]
        }
      ]
    },
    {
      "cell_type": "code",
      "source": [
        "import random\n",
        "play = input('Do you want to play a game (Yes/No):')\n",
        "while play == 'Yes':\n",
        "  p1 = input('Player - Choose rock, paper, or scissors:')\n",
        "  p2 = random.choice(['rock', 'paper', 'scissors'])\n",
        "  print('Computer chose:', p2)\n",
        "  if p1 == p2:\n",
        "    print('Tie')\n",
        "  elif ((p1 == 'Rock' and p2 == 'Scissors') or\n",
        "  (p1 == 'Scissors' and p2 == 'Paper') or\n",
        "  (p1 == 'Paper' and p2 == 'Rock')):\n",
        "    print('Player 1 wins:')\n",
        "  else:\n",
        "    print('Player 2 wins')\n",
        "  play = input('Do you want to play another game (Yes/No):')\n",
        "print('Good day...')"
      ],
      "metadata": {
        "id": "dce1-GRRW66G",
        "colab": {
          "base_uri": "https://localhost:8080/"
        },
        "outputId": "d03b45f6-9ef2-452f-fd4b-76efe8ad2a16"
      },
      "execution_count": null,
      "outputs": [
        {
          "output_type": "stream",
          "name": "stdout",
          "text": [
            "Do you want to play a game (Yes/No):Yes\n",
            "Player - Choose rock, paper, or scissors:scissors\n",
            "Computer chose: rock\n",
            "Player 2 wins\n",
            "Do you want to play another game (Yes/No):No\n",
            "Good day...\n"
          ]
        }
      ]
    },
    {
      "cell_type": "code",
      "source": [
        "First = []\n",
        "while True:\n",
        "  num = float(input('Give a number:'))\n",
        "  if num == 0.0:\n",
        "    break\n",
        "  First.append(num)\n",
        "First.sort(reverse=True)\n",
        "First\n",
        "\n"
      ],
      "metadata": {
        "colab": {
          "base_uri": "https://localhost:8080/"
        },
        "id": "fTwAQxObgsvV",
        "outputId": "9b4d2a64-81fb-4213-e7da-01e512ad4362"
      },
      "execution_count": null,
      "outputs": [
        {
          "name": "stdout",
          "output_type": "stream",
          "text": [
            "Give a number:7\n",
            "Give a number:8\n",
            "Give a number:0\n"
          ]
        },
        {
          "output_type": "execute_result",
          "data": {
            "text/plain": [
              "[8.0, 7.0]"
            ]
          },
          "metadata": {},
          "execution_count": 2
        }
      ]
    },
    {
      "cell_type": "code",
      "source": [
        "months = {}\n",
        "names = ['January', 'February', 'March', 'April', 'May', 'June', 'July', 'August', 'September', 'October', 'November', 'December']\n",
        "numbers = [1, 2, 3, 4, 5, 6, 7, 8, 9, 10, 11, 12]\n",
        "for idx in range(len(names)):\n",
        "  months[numbers[idx]] = names[idx]\n",
        "months"
      ],
      "metadata": {
        "id": "6j3L8bppdEVc",
        "colab": {
          "base_uri": "https://localhost:8080/"
        },
        "outputId": "358f18b4-9e45-4725-df41-20fbc2139018"
      },
      "execution_count": null,
      "outputs": [
        {
          "output_type": "execute_result",
          "data": {
            "text/plain": [
              "{1: 'January',\n",
              " 2: 'February',\n",
              " 3: 'March',\n",
              " 4: 'April',\n",
              " 5: 'May',\n",
              " 6: 'June',\n",
              " 7: 'July',\n",
              " 8: 'August',\n",
              " 9: 'September',\n",
              " 10: 'October',\n",
              " 11: 'November',\n",
              " 12: 'December'}"
            ]
          },
          "metadata": {},
          "execution_count": 1
        }
      ]
    },
    {
      "cell_type": "code",
      "source": [
        "counts = {}\n",
        "while len(counts) < 5:\n",
        "  key = input(\"Please enter value: \")\n",
        "  if key not in counts:\n",
        "    counts[key] = 1\n",
        "  else:\n",
        "    counts[key] += 1\n",
        "counts"
      ],
      "metadata": {
        "id": "UfRl4Yls1eGF",
        "colab": {
          "base_uri": "https://localhost:8080/"
        },
        "outputId": "91842e3d-d5c5-4b1c-9889-360e735b76b9"
      },
      "execution_count": null,
      "outputs": [
        {
          "name": "stdout",
          "output_type": "stream",
          "text": [
            "Please enter value: 5\n",
            "Please enter value: 7\n",
            "Please enter value: 1\n",
            "Please enter value: 0\n",
            "Please enter value: 8\n"
          ]
        },
        {
          "output_type": "execute_result",
          "data": {
            "text/plain": [
              "{'5': 1, '7': 1, '1': 1, '0': 1, '8': 1}"
            ]
          },
          "metadata": {},
          "execution_count": 2
        }
      ]
    },
    {
      "cell_type": "code",
      "source": [
        "def calcFee(hours):\n",
        "  fee = 5 + 2.5*hours\n",
        "  if fee < 10.0:\n",
        "    fee = 10.0\n",
        "  elif fee > 20.0:\n",
        "    fee = 20.0\n",
        "  print(f'Fee: {fee}$')\n",
        "print('Program starts...')\n",
        "numHours = int(input('Enter the number of hours: '))\n",
        "calcFee(numHours)"
      ],
      "metadata": {
        "colab": {
          "base_uri": "https://localhost:8080/"
        },
        "id": "K4Ccy26F1dTt",
        "outputId": "44ed59bc-b54b-42e3-c664-2921931ded5f"
      },
      "execution_count": null,
      "outputs": [
        {
          "output_type": "stream",
          "name": "stdout",
          "text": [
            "Program starts...\n",
            "Enter the number of hours: 8\n",
            "Fee: 20.0$\n"
          ]
        }
      ]
    },
    {
      "cell_type": "code",
      "source": [
        "def StringR(Word):\n",
        "  if len(Word) == 1:\n",
        "    return Word\n",
        "  else:\n",
        "    return Word[-1] + StringR(Word[:-1])\n",
        "StringR(\"Hello\")\n",
        "def reverse(s):\n",
        "  if len(s) <= 1:\n",
        "    return s\n",
        "  else:\n",
        "    return reverse(s[1:]) + s[0]\n",
        "reverse('Hello')"
      ],
      "metadata": {
        "colab": {
          "base_uri": "https://localhost:8080/",
          "height": 35
        },
        "id": "zTwf3ClJExzH",
        "outputId": "882dbd4c-ec1c-4189-f746-bc3b65c8b6f4"
      },
      "execution_count": 13,
      "outputs": [
        {
          "output_type": "execute_result",
          "data": {
            "text/plain": [
              "'olleH'"
            ],
            "application/vnd.google.colaboratory.intrinsic+json": {
              "type": "string"
            }
          },
          "metadata": {},
          "execution_count": 13
        }
      ]
    },
    {
      "cell_type": "code",
      "source": [
        "def calcFee(hours):\n",
        "  min_fee = 10\n",
        "  max_fee = 20\n",
        "  base_fee = 5\n",
        "  hourly = 2.5\n",
        "  fee = base_fee + (hourly*hours)\n",
        "  if fee < min_fee:\n",
        "    fee = min_fee\n",
        "  elif fee > max_fee:\n",
        "    fee = max_fee\n",
        "  print(\"Parking fee: $\", fee)\n",
        "def main():\n",
        "  try:\n",
        "    numHours = int(input(\"Enter number of hours: \"))\n",
        "    calcFee(numHours)\n",
        "  except ValueError:\n",
        "    print(\"Please enter the hours as a number\")\n",
        "  except:\n",
        "    print('Unknown error....')\n",
        "if __name__ == \"__main__\":\n",
        "  main()\n",
        "def getValues(n):\n",
        "  alist = []\n",
        "  for i in range(n):\n",
        "    try:\n",
        "      alist.append(float(input(\"Enter a value: \")))\n",
        "    except ValueError:\n",
        "      print(\"Please enter a number\")\n",
        "      break\n",
        "  return alist\n",
        "def calcAverage(alist):\n",
        "  try:\n",
        "    print(f'The average weight is: {sum(alist[2:]) / len(alist[2:])}')\n",
        "  except ZeroDivisionError:\n",
        "    print(f'List {alist} is empty!')\n",
        "try:\n",
        "  n = int(input(\"How many values do you want to enter? \"))\n",
        "  alist = getValues(n)\n",
        "  Avg = calcAverage(alist)\n",
        "except ValueError:\n",
        "  print(\"Please enter a number\")\n",
        "except UnboundLocalError:\n",
        "  print(\"Please enter your inputs again\")\n",
        "try:\n",
        "  print(\"The average is: \", Avg)\n",
        "except NameError:\n",
        "  print('')"
      ],
      "metadata": {
        "id": "5FwA8MciJBgf",
        "colab": {
          "base_uri": "https://localhost:8080/"
        },
        "outputId": "8d6eaf0f-cdf8-45ef-fdc4-14b136ebfb45"
      },
      "execution_count": 15,
      "outputs": [
        {
          "output_type": "stream",
          "name": "stdout",
          "text": [
            "Enter number of hours: 7\n",
            "Parking fee: $ 20\n",
            "How many values do you want to enter? 6\n",
            "Enter a value: 3\n",
            "Enter a value: 7\n",
            "Enter a value: 4\n",
            "Enter a value: 2\n",
            "Enter a value: 4\n",
            "Enter a value: 5\n",
            "The average weight is: 3.75\n",
            "The average is:  None\n"
          ]
        }
      ]
    },
    {
      "cell_type": "code",
      "source": [
        "class Greeting:\n",
        "  def __init__(self, first, last):\n",
        "    self.first = first\n",
        "    self.last = last\n",
        "  def display(self, formal = False):\n",
        "    self.formal = formal\n",
        "    if self.formal:\n",
        "      print(f'Hello {self.first} {self.last}')\n",
        "    else:\n",
        "      print(f'Hi {self.first}')\n",
        "  def __str__(self):\n",
        "    return f'{self.first}, {self.last}'\n",
        "  def __repr__(self):\n",
        "    return f'{self.first}, {self.last}'\n",
        "\n",
        "greeting = Greeting('Noah', 'Scott')\n",
        "greeting2 = Greeting('Deborah', 'Alex')\n",
        "greeting.display(formal = True)\n",
        "print(greeting)\n",
        "print(greeting2)"
      ],
      "metadata": {
        "colab": {
          "base_uri": "https://localhost:8080/"
        },
        "id": "6PAIdLkVnknp",
        "outputId": "d13ecf96-e752-4d0d-e08c-aeb89bb1d8c1"
      },
      "execution_count": 17,
      "outputs": [
        {
          "output_type": "stream",
          "name": "stdout",
          "text": [
            "Hello Noah Scott\n",
            "Noah, Scott\n",
            "Deborah, Alex\n"
          ]
        }
      ]
    },
    {
      "cell_type": "code",
      "source": [
        "class Student:\n",
        "  def __init__(self, name, number):\n",
        "    self.name = name\n",
        "    self.number = number\n",
        "    self.courses = []\n",
        "\n",
        "  def enroll(self, course):\n",
        "    if course not in self.courses:\n",
        "      self.courses.append(course)\n",
        "    else:\n",
        "      print(f'You are already enrolled in {course}')\n",
        "\n",
        "  def get_courses(self):\n",
        "    return self.courses\n",
        "\n",
        "student = Student('Noah Berger', number = 700)\n",
        "student2 = Student('Alex Berger', number = 333)\n",
        "s3 = Student('Scott Berger', number = 1111)\n",
        "s3.enroll('BTE320')\n",
        "s3.enroll('BTE401')\n",
        "s3.enroll('BTE320')\n",
        "print(student.name)\n",
        "print(student2.name)\n",
        "print(s3.name, s3.number, s3.get_courses())"
      ],
      "metadata": {
        "colab": {
          "base_uri": "https://localhost:8080/"
        },
        "id": "YClKmB9JH9bh",
        "outputId": "17ca329f-e4f8-4b01-9912-346e4fc2b15c"
      },
      "execution_count": 19,
      "outputs": [
        {
          "output_type": "stream",
          "name": "stdout",
          "text": [
            "You are already enrolled in BTE320\n",
            "Noah Berger\n",
            "Alex Berger\n",
            "Scott Berger 1111 ['BTE320', 'BTE401']\n"
          ]
        }
      ]
    },
    {
      "cell_type": "code",
      "source": [
        "import math\n",
        "class Point:\n",
        "  def __init__(self, x, y):\n",
        "    self.x = int(x)\n",
        "    self.y = int(y)\n",
        "  def distance(self, other):\n",
        "    x_diff = abs(self.x - other.x)\n",
        "    y_diff = abs(self.y - other.y)\n",
        "    return math.sqrt(x_diff**2 + y_diff**2)\n",
        "P1 = Point(0,0)\n",
        "P2 = Point(3,4)\n",
        "\n",
        "P1.distance(P2)\n",
        "\n",
        "class Rectangle:\n",
        "  def __init__(self):\n",
        "    self.corner1 = Point(0, 0)\n",
        "    self.corner2 = Point(0, 2)\n",
        "    self.corner3 = Point(2, 0)\n",
        "    self.corner4 = Point(2, 2)\n",
        "    self.width = self.calculate_width()\n",
        "    self.height = self.calculate_height()\n",
        "  def calculate_width(self):\n",
        "    return self.corner1.distance(self.corner3)\n",
        "  def calculate_height(self):\n",
        "    return self.corner1.distance(self.corner2)\n",
        "  def area(self):\n",
        "    return self.width * self.height\n",
        "\n",
        "square = Rectangle()\n",
        "square.area()"
      ],
      "metadata": {
        "colab": {
          "base_uri": "https://localhost:8080/"
        },
        "id": "INQVFRgEIrq1",
        "outputId": "e8244735-b6d1-441c-d531-7173b117586f"
      },
      "execution_count": 20,
      "outputs": [
        {
          "output_type": "execute_result",
          "data": {
            "text/plain": [
              "4.0"
            ]
          },
          "metadata": {},
          "execution_count": 20
        }
      ]
    },
    {
      "cell_type": "code",
      "source": [
        "class Car:\n",
        "  def __init__(self, make, year):\n",
        "    self.__make = make\n",
        "    self.__year = year\n",
        "  def get_make(self):\n",
        "    return self.__make\n",
        "  def set_make(self, newMake):\n",
        "    self.__make = newMake\n",
        "class SUV(Car):\n",
        "  def activateAWD(self):\n",
        "    print('AWD activated')\n",
        "\n",
        "c = Car('Ford', 2024)\n",
        "s = SUV('GMC', 2021)\n",
        "c.get_make()\n",
        "s.get_make()\n",
        "s.activateAWD()"
      ],
      "metadata": {
        "colab": {
          "base_uri": "https://localhost:8080/"
        },
        "id": "hT_ct9HiJFi6",
        "outputId": "5a82d491-1081-4e41-9507-a19173a8a73b"
      },
      "execution_count": 21,
      "outputs": [
        {
          "output_type": "stream",
          "name": "stdout",
          "text": [
            "AWD activated\n"
          ]
        }
      ]
    }
  ]
}